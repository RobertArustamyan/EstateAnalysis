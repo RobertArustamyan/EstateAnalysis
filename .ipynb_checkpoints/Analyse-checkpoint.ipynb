{
 "cells": [
  {
   "cell_type": "markdown",
   "source": [
    "### FILE"
   ],
   "metadata": {
    "collapsed": false
   },
   "id": "6582e9c81f55aa1c"
  },
  {
   "cell_type": "code",
   "execution_count": 1,
   "outputs": [],
   "source": [
    "import pandas as pd\n",
    "import matplotlib.pyplot as plt\n",
    "from Functions.air_distance import haversine"
   ],
   "metadata": {
    "collapsed": false,
    "ExecuteTime": {
     "start_time": "2024-03-07T11:38:19.377964900Z"
    }
   },
   "id": "initial_id"
  },
  {
   "cell_type": "code",
   "execution_count": 25,
   "outputs": [],
   "source": [
    "df = pd.read_csv('Data/CombinedData.csv',encoding='utf-8',low_memory=False)"
   ],
   "metadata": {
    "collapsed": false,
    "ExecuteTime": {
     "end_time": "2024-03-07T13:18:12.469778800Z",
     "start_time": "2024-03-07T13:18:10.128684600Z"
    }
   },
   "id": "c2b240b3b092014e"
  },
  {
   "cell_type": "code",
   "execution_count": 26,
   "outputs": [
    {
     "data": {
      "text/plain": "Index(['link', 'category', 'category_from_list', 'title', 'address', 'price',\n       'agency', 'longtitude', 'latitude', 'area', 'landarea', 'purpose',\n       'buildingtype', 'elevator', 'floorcount', 'roomcount', 'bathroomcount',\n       'newbuilded', 'furniture', 'garagecount', 'repairstatus', 'balcony',\n       'guests', 'domophone', 'doorman', 'playground', 'coveredparking',\n       'outdoorparking', 'garage_tr_fl', 'househas', 'childer', 'animal',\n       'utilitypayment', 'prepayment', 'description'],\n      dtype='object')"
     },
     "execution_count": 26,
     "metadata": {},
     "output_type": "execute_result"
    }
   ],
   "source": [
    "df.columns"
   ],
   "metadata": {
    "collapsed": false,
    "ExecuteTime": {
     "end_time": "2024-03-07T13:18:13.629304400Z",
     "start_time": "2024-03-07T13:18:13.620766500Z"
    }
   },
   "id": "11ed056597ccce0b"
  },
  {
   "cell_type": "code",
   "execution_count": 20,
   "outputs": [
    {
     "data": {
      "text/plain": "array(['apartments-long_term-rent', 'apartments-sale',\n       'commercial-estate-offices-rent', 'commercial-estate-sale',\n       'daily-apartments-rent', 'daily-house-rent', 'event-venues',\n       'garages-parking-slots-rent', 'garages-parking-slots-sale',\n       'houses-rent', 'houses-sale', 'land-rent', 'land-sale',\n       'new-apartments-sale', 'new-houses-sale', 'rooms-daily-rent',\n       'rooms-rent', 'tnak-krpak-rent', 'tnak-krpak-sale'], dtype=object)"
     },
     "execution_count": 20,
     "metadata": {},
     "output_type": "execute_result"
    }
   ],
   "source": [
    "df['category_from_list'].unique()"
   ],
   "metadata": {
    "collapsed": false,
    "ExecuteTime": {
     "end_time": "2024-03-02T18:01:54.222894500Z",
     "start_time": "2024-03-02T18:01:54.156881400Z"
    }
   },
   "id": "ffbb064fe89d8782"
  },
  {
   "cell_type": "code",
   "execution_count": 4,
   "outputs": [],
   "source": [
    "df.rename(columns={'childer' : 'children'},inplace=True)"
   ],
   "metadata": {
    "collapsed": false,
    "ExecuteTime": {
     "end_time": "2024-03-07T11:40:09.677003500Z",
     "start_time": "2024-03-07T11:40:09.659197200Z"
    }
   },
   "id": "5f3f75ae052d9d32"
  },
  {
   "cell_type": "code",
   "execution_count": 5,
   "outputs": [],
   "source": [
    "YEREVAN_CENTER_LAT,YEREVAN_CENTER_LONG = 40.18111, 44.51361\n",
    "df['distance_from_center'] = df.apply(lambda row: haversine(YEREVAN_CENTER_LAT,YEREVAN_CENTER_LONG, row['latitude'],row['longtitude']),axis=1)"
   ],
   "metadata": {
    "collapsed": false,
    "ExecuteTime": {
     "end_time": "2024-03-07T11:40:15.405792400Z",
     "start_time": "2024-03-07T11:40:12.739389400Z"
    }
   },
   "id": "60918aac41d9a55d"
  },
  {
   "cell_type": "code",
   "execution_count": null,
   "outputs": [],
   "source": [],
   "metadata": {
    "collapsed": false
   },
   "id": "84e1811fd26f54c4"
  },
  {
   "cell_type": "code",
   "execution_count": 34,
   "outputs": [
    {
     "data": {
      "text/plain": "17134    NaN\n17162    NaN\n17359    NaN\n17390    NaN\n17653    NaN\n          ..\n100359   NaN\n100679   NaN\n100687   NaN\n100692   NaN\n100713   NaN\nName: area, Length: 101, dtype: float64"
     },
     "execution_count": 34,
     "metadata": {},
     "output_type": "execute_result"
    }
   ],
   "source": [
    "filt = (df['category_from_list'] == 'apartments-sale')\n",
    "filtered_df = df[filt]\n",
    "filtered_df[filtered_df['area'].isna()]['area']"
   ],
   "metadata": {
    "collapsed": false,
    "ExecuteTime": {
     "end_time": "2024-03-07T13:30:09.772544700Z",
     "start_time": "2024-03-07T13:30:09.735243500Z"
    }
   },
   "id": "91242a13b606066d"
  },
  {
   "cell_type": "code",
   "execution_count": null,
   "outputs": [],
   "source": [],
   "metadata": {
    "collapsed": false
   },
   "id": "ca583a4b3554b387"
  }
 ],
 "metadata": {
  "kernelspec": {
   "display_name": "Python 3",
   "language": "python",
   "name": "python3"
  },
  "language_info": {
   "codemirror_mode": {
    "name": "ipython",
    "version": 2
   },
   "file_extension": ".py",
   "mimetype": "text/x-python",
   "name": "python",
   "nbconvert_exporter": "python",
   "pygments_lexer": "ipython2",
   "version": "2.7.6"
  }
 },
 "nbformat": 4,
 "nbformat_minor": 5
}
